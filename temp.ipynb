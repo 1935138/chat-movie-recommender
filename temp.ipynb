{
 "cells": [
  {
   "cell_type": "code",
   "execution_count": 1,
   "id": "8630e8f2",
   "metadata": {},
   "outputs": [
    {
     "name": "stdout",
     "output_type": "stream",
     "text": [
      "✅ 데이터베이스 초기화 완료 (5개 테이블 생성됨)\n"
     ]
    }
   ],
   "source": [
    "import pandas as pd\n",
    "from database import *"
   ]
  },
  {
   "cell_type": "code",
   "execution_count": 6,
   "id": "007e35cf",
   "metadata": {},
   "outputs": [
    {
     "name": "stdout",
     "output_type": "stream",
     "text": [
      "⚠️ 사용자 ID 7에 대한 피드백이 없습니다.\n"
     ]
    }
   ],
   "source": [
    "user_id = get_or_create_user_id('보리차')\n",
    "\n",
    "show_user_feedback(user_id)"
   ]
  },
  {
   "cell_type": "code",
   "execution_count": null,
   "id": "5bd4fc13",
   "metadata": {},
   "outputs": [],
   "source": [
    "def save_feedback(interaction_id: int, movie_title: str, is_selected: bool, is_disliked: bool, feedback_text: str = \"\", db_path: str = \"movie_recommendation.db\"):\n",
    "    \"\"\"유저의 피드백 (선택 or 싫어요 등) 저장\"\"\"\n",
    "    with get_db() as conn:\n",
    "        cursor = conn.cursor()\n",
    "        cursor.execute(\"\"\"\n",
    "            INSERT INTO user_feedback (interaction_id, movie_title, is_selected, is_disliked, feedback_text)\n",
    "            VALUES (?, ?, ?, ?, ?)\n",
    "        \"\"\", (interaction_id, movie_title, is_selected, is_disliked, feedback_text))\n",
    "        conn.commit()\n",
    "        conn.close()"
   ]
  },
  {
   "cell_type": "code",
   "execution_count": 8,
   "id": "3b6d6f1d",
   "metadata": {},
   "outputs": [],
   "source": [
    "# 유저 이름으로 ID 확보\n",
    "user_name = \"보리차\"\n",
    "user_id = get_or_create_user_id(user_name)\n",
    "\n",
    "# 사용자 입력 저장 및 interaction_id 확보\n",
    "user_input = \"감동적인 가족 영화 추천해줘\"\n",
    "interaction_id = create_interaction(user_id, user_input)\n",
    "\n",
    "# 추천받은 영화 예시\n",
    "recommended_movies = [\"코코\", \"원더\", \"인사이드 아웃\"]\n",
    "log_recommendations(interaction_id, recommended_movies)\n",
    "\n",
    "# 사용자 피드백 저장 (예: '코코'는 선택함, '인사이드 아웃'은 싫어함)\n",
    "save_feedback(\n",
    "    interaction_id=interaction_id,\n",
    "    movie_title=\"코코\",\n",
    "    is_selected=True,\n",
    "    is_disliked=False,\n",
    "    feedback_text=\"가슴 뭉클하고 정말 감동적이었어요!\"\n",
    ")\n",
    "\n",
    "save_feedback(\n",
    "    interaction_id=interaction_id,\n",
    "    movie_title=\"인사이드 아웃\",\n",
    "    is_selected=False,\n",
    "    is_disliked=True,\n",
    "    feedback_text=\"아이들용 느낌이 강해서 별로였어요.\"\n",
    ")\n"
   ]
  },
  {
   "cell_type": "code",
   "execution_count": 10,
   "id": "c3deee19",
   "metadata": {},
   "outputs": [
    {
     "name": "stdout",
     "output_type": "stream",
     "text": [
      "7\n"
     ]
    },
    {
     "data": {
      "text/plain": [
       "[(1,\n",
       "  '보리차',\n",
       "  '감동적인 가족 영화 추천해줘',\n",
       "  '코코',\n",
       "  1,\n",
       "  0,\n",
       "  '가슴 뭉클하고 정말 감동적이었어요!',\n",
       "  '2025-05-25 13:51:19'),\n",
       " (2,\n",
       "  '보리차',\n",
       "  '감동적인 가족 영화 추천해줘',\n",
       "  '인사이드 아웃',\n",
       "  0,\n",
       "  1,\n",
       "  '아이들용 느낌이 강해서 별로였어요.',\n",
       "  '2025-05-25 13:51:19')]"
      ]
     },
     "execution_count": 10,
     "metadata": {},
     "output_type": "execute_result"
    }
   ],
   "source": [
    "from database import *\n",
    "user_id = get_or_create_user_id('보리차')\n",
    "\n",
    "print(user_id)\n",
    "get_feedback_by_user_id(user_id)"
   ]
  },
  {
   "cell_type": "code",
   "execution_count": 6,
   "id": "ce4aced0",
   "metadata": {},
   "outputs": [
    {
     "data": {
      "text/plain": [
       "[]"
      ]
     },
     "execution_count": 6,
     "metadata": {},
     "output_type": "execute_result"
    }
   ],
   "source": [
    "get_feedback_by_user_id(2)"
   ]
  },
  {
   "cell_type": "code",
   "execution_count": 9,
   "id": "ea4a3155",
   "metadata": {},
   "outputs": [
    {
     "name": "stdout",
     "output_type": "stream",
     "text": [
      "[(1, 9, '코코', 1, 0, '가슴 뭉클하고 정말 감동적이었어요!'), (2, 9, '인사이드 아웃', 0, 1, '아이들용 느낌이 강해서 별로였어요.')]\n"
     ]
    }
   ],
   "source": [
    "import sqlite3\n",
    "conn = sqlite3.connect('movie_recommendation.db')\n",
    "cursor = conn.cursor()\n",
    "\n",
    "cursor.execute(\"SELECT * FROM user_feedback;\")\n",
    "print(cursor.fetchall())\n",
    "\n"
   ]
  },
  {
   "cell_type": "code",
   "execution_count": null,
   "id": "7d9dba99",
   "metadata": {},
   "outputs": [
    {
     "ename": "NameError",
     "evalue": "name 'interaction_id' is not defined",
     "output_type": "error",
     "traceback": [
      "\u001b[31m---------------------------------------------------------------------------\u001b[39m",
      "\u001b[31mNameError\u001b[39m                                 Traceback (most recent call last)",
      "\u001b[36mCell\u001b[39m\u001b[36m \u001b[39m\u001b[32mIn[11]\u001b[39m\u001b[32m, line 2\u001b[39m\n\u001b[32m      1\u001b[39m save_feedback(\n\u001b[32m----> \u001b[39m\u001b[32m2\u001b[39m     interaction_id=\u001b[43minteraction_id\u001b[49m,\n\u001b[32m      3\u001b[39m     movie_title=\u001b[33m\"\u001b[39m\u001b[33m\"\u001b[39m,\n\u001b[32m      4\u001b[39m     is_selected=\u001b[38;5;28;01mFalse\u001b[39;00m,\n\u001b[32m      5\u001b[39m     is_disliked=\u001b[38;5;28;01mTrue\u001b[39;00m,\n\u001b[32m      6\u001b[39m     feedback_text=\u001b[33m\"\u001b[39m\u001b[33m\"\u001b[39m\n\u001b[32m      7\u001b[39m )\n",
      "\u001b[31mNameError\u001b[39m: name 'interaction_id' is not defined"
     ]
    }
   ],
   "source": [
    "save_feedback(\n",
    "    interaction_id=interaction_id,\n",
    "    movie_title=title,\n",
    "    is_selected=False,\n",
    "    is_disliked=True,\n",
    "    feedback_text=\"\"\n",
    ")"
   ]
  }
 ],
 "metadata": {
  "kernelspec": {
   "display_name": "llm",
   "language": "python",
   "name": "python3"
  },
  "language_info": {
   "codemirror_mode": {
    "name": "ipython",
    "version": 3
   },
   "file_extension": ".py",
   "mimetype": "text/x-python",
   "name": "python",
   "nbconvert_exporter": "python",
   "pygments_lexer": "ipython3",
   "version": "3.12.9"
  }
 },
 "nbformat": 4,
 "nbformat_minor": 5
}
